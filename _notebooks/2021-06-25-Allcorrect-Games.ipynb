{
 "cells": [
  {
   "source": [
    "# \"Allcorrect Games\"\n",
    "> \"We tackle an NLP multiclass classification challenge for a localization company\"\n",
    "\n",
    "- toc: true\n",
    "- badges: true\n",
    "- comments: true\n",
    "- categories: [fastpages, jupyter]\n",
    "- hide: false"
   ],
   "cell_type": "markdown",
   "metadata": {}
  },
  {
   "cell_type": "markdown",
   "metadata": {},
   "source": [
    "# Problem Statement\n",
    "- Allcorrect Games is looking to improve the speed at which they identify potential customers.\n",
    "- The current bottleneck is manually labeling reviews into 4 categories\n",
    "- We will attempt to resolve this using machine learning"
   ]
  },
  {
   "cell_type": "markdown",
   "metadata": {},
   "source": [
    "## Data Description\n",
    "\n",
    "- id - unique identifier\n",
    "- mark - our RL, YL, L+, or L- label\n",
    "    - RL – localization request;\n",
    "    - L+ – good localization;\n",
    "    - L- – bad localization;\n",
    "    - YL – localization exists.\n",
    "- review - The reviews to be classified"
   ]
  },
  {
   "source": [
    "## Plan:\n",
    "1. Examine the data for insights and errors\n",
    "2. Clean up the reviews for processing and vectorization.\n",
    "3. Examine class balance and test sampling methods.\n",
    "4. Experiment with different vectorization methods and examine our results via Logistic Regression\n",
    "5. Use a more advanced model and compare results"
   ],
   "cell_type": "markdown",
   "metadata": {}
  },
  {
   "source": [
    "# Solution"
   ],
   "cell_type": "markdown",
   "metadata": {}
  },
  {
   "cell_type": "markdown",
   "metadata": {},
   "source": [
    "## Import and examine the data"
   ]
  },
  {
   "cell_type": "code",
   "execution_count": 1,
   "metadata": {},
   "outputs": [],
   "source": [
    "#collapse\n",
    "import warnings\n",
    "warnings.filterwarnings(\"ignore\")\n",
    "\n",
    "import math\n",
    "import numpy as np\n",
    "import pandas as pd\n",
    "\n",
    "import matplotlib\n",
    "import matplotlib.pyplot as plt\n",
    "import seaborn as sns\n",
    "\n",
    "%matplotlib inline\n",
    "%config InlineBackend.figure_format = 'png'\n",
    "# the next line provides graphs of better quality on HiDPI screens\n",
    "%config InlineBackend.figure_format = 'retina'\n",
    "plt.style.use('seaborn')\n",
    "\n",
    "from tqdm.auto import tqdm\n",
    "tqdm.pandas()\n",
    "\n",
    "import re\n",
    "\n",
    "import spacy\n",
    "import torch\n",
    "import transformers\n",
    "\n",
    "from sklearn.metrics import classification_report,accuracy_score\n",
    "from sklearn.feature_extraction.text import CountVectorizer\n",
    "from sklearn.feature_extraction.text import TfidfVectorizer\n",
    "from sklearn.linear_model import LogisticRegression\n",
    "from sklearn.model_selection import train_test_split\n",
    "from sklearn.model_selection import GridSearchCV\n",
    "\n",
    "from catboost import Pool, CatBoostClassifier"
   ]
  },
  {
   "cell_type": "code",
   "execution_count": 2,
   "metadata": {},
   "outputs": [],
   "source": [
    "#hide\n",
    "STATE = 12345\n",
    "USE_GPU = True\n",
    "SOURCE_FILE = 'C:/Users/The Ogre/datascience/allcorrectgames/reviews.xlsx'"
   ]
  },
  {
   "cell_type": "code",
   "execution_count": 3,
   "metadata": {},
   "outputs": [
    {
     "data": {
      "text/plain": [
       "True"
      ]
     },
     "execution_count": 3,
     "metadata": {},
     "output_type": "execute_result"
    }
   ],
   "source": [
    "#hide \n",
    "torch.cuda.is_available()"
   ]
  },
  {
   "cell_type": "code",
   "execution_count": 4,
   "metadata": {},
   "outputs": [],
   "source": [
    "df_reviews = pd.read_excel(SOURCE_FILE, engine='openpyxl')"
   ]
  },
  {
   "cell_type": "code",
   "execution_count": 5,
   "metadata": {
    "scrolled": true
   },
   "outputs": [
    {
     "name": "stdout",
     "output_type": "stream",
     "text": [
      "<class 'pandas.core.frame.DataFrame'>\n",
      "RangeIndex: 51800 entries, 0 to 51799\n",
      "Data columns (total 3 columns):\n",
      " #   Column  Non-Null Count  Dtype \n",
      "---  ------  --------------  ----- \n",
      " 0   id      51800 non-null  int64 \n",
      " 1   mark    51800 non-null  object\n",
      " 2   review  51800 non-null  object\n",
      "dtypes: int64(1), object(2)\n",
      "memory usage: 1.2+ MB\n"
     ]
    }
   ],
   "source": [
    "df_reviews.info()"
   ]
  },
  {
   "cell_type": "code",
   "execution_count": 6,
   "metadata": {},
   "outputs": [
    {
     "data": {
      "text/html": [
       "<div>\n",
       "<style scoped>\n",
       "    .dataframe tbody tr th:only-of-type {\n",
       "        vertical-align: middle;\n",
       "    }\n",
       "\n",
       "    .dataframe tbody tr th {\n",
       "        vertical-align: top;\n",
       "    }\n",
       "\n",
       "    .dataframe thead th {\n",
       "        text-align: right;\n",
       "    }\n",
       "</style>\n",
       "<table border=\"1\" class=\"dataframe\">\n",
       "  <thead>\n",
       "    <tr style=\"text-align: right;\">\n",
       "      <th></th>\n",
       "      <th>id</th>\n",
       "      <th>mark</th>\n",
       "      <th>review</th>\n",
       "    </tr>\n",
       "  </thead>\n",
       "  <tbody>\n",
       "    <tr>\n",
       "      <th>0</th>\n",
       "      <td>6720</td>\n",
       "      <td>RL</td>\n",
       "      <td>It's not Turkish, it's a lie, but I recommend ...</td>\n",
       "    </tr>\n",
       "    <tr>\n",
       "      <th>1</th>\n",
       "      <td>43313</td>\n",
       "      <td>RL</td>\n",
       "      <td>You don't have Korean</td>\n",
       "    </tr>\n",
       "    <tr>\n",
       "      <th>2</th>\n",
       "      <td>26549</td>\n",
       "      <td>RL</td>\n",
       "      <td>Very nice, only if it were in Italian it would...</td>\n",
       "    </tr>\n",
       "    <tr>\n",
       "      <th>3</th>\n",
       "      <td>42306</td>\n",
       "      <td>RL</td>\n",
       "      <td>The game is nice but when it comes to Turkish ...</td>\n",
       "    </tr>\n",
       "    <tr>\n",
       "      <th>4</th>\n",
       "      <td>32331</td>\n",
       "      <td>RL</td>\n",
       "      <td>Amazing work, hope to achieve 100% Chinese tra...</td>\n",
       "    </tr>\n",
       "  </tbody>\n",
       "</table>\n",
       "</div>"
      ],
      "text/plain": [
       "      id mark                                             review\n",
       "0   6720   RL  It's not Turkish, it's a lie, but I recommend ...\n",
       "1  43313   RL                              You don't have Korean\n",
       "2  26549   RL  Very nice, only if it were in Italian it would...\n",
       "3  42306   RL  The game is nice but when it comes to Turkish ...\n",
       "4  32331   RL  Amazing work, hope to achieve 100% Chinese tra..."
      ]
     },
     "execution_count": 6,
     "metadata": {},
     "output_type": "execute_result"
    }
   ],
   "source": [
    "df_reviews.head()"
   ]
  },
  {
   "cell_type": "code",
   "execution_count": 7,
   "metadata": {
    "scrolled": true
   },
   "outputs": [
    {
     "data": {
      "text/plain": [
       "RL    42684\n",
       "L-     5474\n",
       "YL     2961\n",
       "L+      666\n",
       "Rl       10\n",
       "l-        3\n",
       "yl        1\n",
       "Yl        1\n",
       "Name: mark, dtype: int64"
      ]
     },
     "execution_count": 7,
     "metadata": {},
     "output_type": "execute_result"
    }
   ],
   "source": [
    "df_reviews['mark'].value_counts()"
   ]
  },
  {
   "cell_type": "code",
   "execution_count": 8,
   "metadata": {},
   "outputs": [
    {
     "data": {
      "text/plain": [
       "<AxesSubplot:>"
      ]
     },
     "execution_count": 8,
     "metadata": {},
     "output_type": "execute_result"
    },
    {
     "data": {
      "image/png": "[encoded data removed]",
      "text/plain": [
       "<Figure size 576x396 with 1 Axes>"
      ]
     },
     "metadata": {
      "image/png": {
       "height": 333,
       "width": 495
      }
     },
     "output_type": "display_data"
    }
   ],
   "source": [
    "#collapse\n",
    "df_reviews['mark'].value_counts().plot(kind='bar') "
   ]
  },
  {
   "cell_type": "markdown",
   "metadata": {},
   "source": [
    "- Categories need cleaning up, need to make them all Capital Letters"
   ]
  },
  {
   "cell_type": "code",
   "execution_count": 9,
   "metadata": {},
   "outputs": [
    {
     "data": {
      "text/plain": [
       "False    51800\n",
       "Name: id, dtype: int64"
      ]
     },
     "execution_count": 9,
     "metadata": {},
     "output_type": "execute_result"
    }
   ],
   "source": [
    "df_reviews['id'].duplicated().value_counts()"
   ]
  },
  {
   "cell_type": "code",
   "execution_count": 10,
   "metadata": {},
   "outputs": [
    {
     "data": {
      "text/plain": [
       "👍        2\n",
       "😕😕😕      1\n",
       "??       1\n",
       ".        1\n",
       "Plz      1\n",
       "When?    1\n",
       "FROM     1\n",
       "Pls      1\n",
       "Good!    1\n",
       "Great    1\n",
       "👿        1\n",
       "，        1\n",
       "..       1\n",
       "...      1\n",
       "👍👍👍      1\n",
       "Now      1\n",
       "🇩🇰✌️     1\n",
       "🙏🏽       1\n",
       "Name: review, dtype: int64"
      ]
     },
     "execution_count": 10,
     "metadata": {},
     "output_type": "execute_result"
    }
   ],
   "source": [
    "df_reviews[df_reviews['review'].str.len() <= 5]['review'].value_counts()"
   ]
  },
  {
   "cell_type": "markdown",
   "metadata": {},
   "source": [
    "- Removing these reviews. They are not long enough to have any value and appear to be errors in the initial algorithm gathering the reviews"
   ]
  },
  {
   "cell_type": "code",
   "execution_count": 11,
   "metadata": {},
   "outputs": [
    {
     "data": {
      "text/plain": [
       "False    48515\n",
       "True      3285\n",
       "Name: review, dtype: int64"
      ]
     },
     "execution_count": 11,
     "metadata": {},
     "output_type": "execute_result"
    }
   ],
   "source": [
    "df_reviews['review'].duplicated().value_counts()"
   ]
  },
  {
   "cell_type": "code",
   "execution_count": 12,
   "metadata": {},
   "outputs": [
    {
     "data": {
      "text/plain": [
       "Would like to have Thai language    181\n",
       "No Russian language                  85\n",
       "Turkish language please              62\n",
       "Add Russian                          60\n",
       "Please add the Arabic language       54\n",
       "Name: review, dtype: int64"
      ]
     },
     "execution_count": 12,
     "metadata": {},
     "output_type": "execute_result"
    }
   ],
   "source": [
    "df_reviews[df_reviews['review'].duplicated()]['review'].value_counts().head()"
   ]
  },
  {
   "cell_type": "markdown",
   "metadata": {},
   "source": [
    "- Duplicates area a natural occurence in the data set, so we are going to leave them"
   ]
  },
  {
   "cell_type": "markdown",
   "metadata": {},
   "source": [
    "## Clean the Data"
   ]
  },
  {
   "cell_type": "code",
   "execution_count": 13,
   "metadata": {},
   "outputs": [],
   "source": [
    "df_reviews = df_reviews[df_reviews['review'].str.len() > 5]\n",
    "df_reviews.reset_index(drop=True, inplace=True)"
   ]
  },
  {
   "cell_type": "code",
   "execution_count": 14,
   "metadata": {
    "scrolled": true
   },
   "outputs": [],
   "source": [
    "df_reviews['mark'] = df_reviews['mark'].str.upper()"
   ]
  },
  {
   "cell_type": "code",
   "execution_count": 15,
   "metadata": {
    "scrolled": false
   },
   "outputs": [
    {
     "data": {
      "text/plain": [
       "RL    42676\n",
       "L-     5477\n",
       "YL     2962\n",
       "L+      666\n",
       "Name: mark, dtype: int64"
      ]
     },
     "execution_count": 15,
     "metadata": {},
     "output_type": "execute_result"
    },
    {
     "data": {
      "image/png": "[encoded data removed]",
      "text/plain": [
       "<Figure size 576x396 with 1 Axes>"
      ]
     },
     "metadata": {
      "image/png": {
       "height": 333,
       "width": 495
      }
     },
     "output_type": "display_data"
    }
   ],
   "source": [
    "#collapse\n",
    "df_reviews['mark'].value_counts().plot(kind='bar') \n",
    "df_reviews['mark'].value_counts()"
   ]
  },
  {
   "cell_type": "markdown",
   "metadata": {},
   "source": [
    "- All labels have been properly corrected"
   ]
  },
  {
   "cell_type": "code",
   "execution_count": 16,
   "metadata": {},
   "outputs": [],
   "source": [
    "#collapse\n",
    "contractions = { \n",
    "\"ain't\": \"am not\",\n",
    "\"aren't\": \"are not\",\n",
    "\"can't\": \"cannot\",\n",
    "\"can't've\": \"cannot have\",\n",
    "\"'cause\": \"because\",\n",
    "\"could've\": \"could have\",\n",
    "\"couldn't\": \"could not\",\n",
    "\"couldn't've\": \"could not have\",\n",
    "\"didn't\": \"did not\",\n",
    "\"doesn't\": \"does not\",\n",
    "\"don't\": \"do not\",\n",
    "\"hadn't\": \"had not\",\n",
    "\"hadn't've\": \"had not have\",\n",
    "\"hasn't\": \"has not\",\n",
    "\"haven't\": \"have not\",\n",
    "\"he'd\": \"he would\",\n",
    "\"he'd've\": \"he would have\",\n",
    "\"he'll\": \"he will\",\n",
    "\"he'll've\": \"he will have\",\n",
    "\"he's\": \"he is\",\n",
    "\"how'd\": \"how did\",\n",
    "\"how'd'y\": \"how do you\",\n",
    "\"how'll\": \"how will\",\n",
    "\"how's\": \"how does\",\n",
    "\"i'd\": \"i would\",\n",
    "\"i'd've\": \"i would have\",\n",
    "\"i'll\": \"i will\",\n",
    "\"i'll've\": \"i will have\",\n",
    "\"i'm\": \"i am\",\n",
    "\"i've\": \"i have\",\n",
    "\"isn't\": \"is not\",\n",
    "\"it'd\": \"it would\",\n",
    "\"it'd've\": \"it would have\",\n",
    "\"it'll\": \"it will\",\n",
    "\"it'll've\": \"it will have\",\n",
    "\"it's\": \"it is\",\n",
    "\"let's\": \"let us\",\n",
    "\"ma'am\": \"madam\",\n",
    "\"mayn't\": \"may not\",\n",
    "\"might've\": \"might have\",\n",
    "\"mightn't\": \"might not\",\n",
    "\"mightn't've\": \"might not have\",\n",
    "\"must've\": \"must have\",\n",
    "\"mustn't\": \"must not\",\n",
    "\"mustn't've\": \"must not have\",\n",
    "\"needn't\": \"need not\",\n",
    "\"needn't've\": \"need not have\",\n",
    "\"o'clock\": \"of the clock\",\n",
    "\"oughtn't\": \"ought not\",\n",
    "\"oughtn't've\": \"ought not have\",\n",
    "\"shan't\": \"shall not\",\n",
    "\"sha'n't\": \"shall not\",\n",
    "\"shan't've\": \"shall not have\",\n",
    "\"she'd\": \"she would\",\n",
    "\"she'd've\": \"she would have\",\n",
    "\"she'll\": \"she will\",\n",
    "\"she'll've\": \"she will have\",\n",
    "\"she's\": \"she is\",\n",
    "\"should've\": \"should have\",\n",
    "\"shouldn't\": \"should not\",\n",
    "\"shouldn't've\": \"should not have\",\n",
    "\"so've\": \"so have\",\n",
    "\"so's\": \"so is\",\n",
    "\"that'd\": \"that would\",\n",
    "\"that'd've\": \"that would have\",\n",
    "\"that's\": \"that is\",\n",
    "\"there'd\": \"there would\",\n",
    "\"there'd've\": \"there would have\",\n",
    "\"there's\": \"there is\",\n",
    "\"they'd\": \"they would\",\n",
    "\"they'd've\": \"they would have\",\n",
    "\"they'll\": \"they will\",\n",
    "\"they'll've\": \"they will have\",\n",
    "\"they're\": \"they are\",\n",
    "\"they've\": \"they have\",\n",
    "\"to've\": \"to have\",\n",
    "\"wasn't\": \"was not\",\n",
    "\" u \": \" you \",\n",
    "\" ur \": \" your \",\n",
    "\" n \": \" and \",\n",
    "\"won't\": \"would not\",\n",
    "'dis ': 'this ',\n",
    "'bak ': 'back ',\n",
    "'brng': 'bring'}"
   ]
  },
  {
   "cell_type": "code",
   "execution_count": 17,
   "metadata": {},
   "outputs": [],
   "source": [
    "def cont_to_exp(x):\n",
    "    if type(x) is str:\n",
    "        for key in contractions:\n",
    "            value = contractions[key]\n",
    "            x = x.replace(key, value)\n",
    "        return x\n",
    "    else:\n",
    "        return x"
   ]
  },
  {
   "cell_type": "code",
   "execution_count": 18,
   "metadata": {},
   "outputs": [],
   "source": [
    "def clear_text(text):\n",
    "    text = text.lower()\n",
    "    text = re.sub(r\"[^a-z']+\", \" \", text) \n",
    "    return \" \".join(text.split())"
   ]
  },
  {
   "cell_type": "code",
   "execution_count": 19,
   "metadata": {
    "scrolled": false
   },
   "outputs": [
    {
     "data": {
      "application/vnd.jupyter.widget-view+json": {
       "model_id": "1864ce6a48cb400eb0103756621bdffe",
       "version_major": 2,
       "version_minor": 0
      },
      "text/plain": [
       "HBox(children=(HTML(value=''), FloatProgress(value=0.0, max=51781.0), HTML(value='')))"
      ]
     },
     "metadata": {},
     "output_type": "display_data"
    },
    {
     "name": "stdout",
     "output_type": "stream",
     "text": [
      "\n"
     ]
    }
   ],
   "source": [
    "df_reviews['review_norm'] = df_reviews['review'].progress_apply(clear_text)"
   ]
  },
  {
   "cell_type": "code",
   "execution_count": 20,
   "metadata": {
    "scrolled": true
   },
   "outputs": [
    {
     "data": {
      "application/vnd.jupyter.widget-view+json": {
       "model_id": "a02ff12fd96c4f1dbee72e2872951a62",
       "version_major": 2,
       "version_minor": 0
      },
      "text/plain": [
       "HBox(children=(HTML(value=''), FloatProgress(value=0.0, max=51781.0), HTML(value='')))"
      ]
     },
     "metadata": {},
     "output_type": "display_data"
    },
    {
     "name": "stdout",
     "output_type": "stream",
     "text": [
      "\n"
     ]
    }
   ],
   "source": [
    "df_reviews['review_norm'] = df_reviews['review_norm'].progress_apply(cont_to_exp)"
   ]
  },
  {
   "cell_type": "code",
   "execution_count": 21,
   "metadata": {
    "scrolled": true
   },
   "outputs": [
    {
     "data": {
      "text/plain": [
       "0    it is not turkish it is a lie but i recommend ...\n",
       "1                               you do not have korean\n",
       "2    very nice only if it were in italian it would ...\n",
       "3    the game is nice but when it comes to turkish ...\n",
       "4     amazing work hope to achieve chinese translation\n",
       "Name: review_norm, dtype: object"
      ]
     },
     "execution_count": 21,
     "metadata": {},
     "output_type": "execute_result"
    }
   ],
   "source": [
    "df_reviews['review_norm'].head()"
   ]
  },
  {
   "cell_type": "markdown",
   "metadata": {},
   "source": [
    "- Reviews are now all lower case and contractions have been removed to simplify vectorization"
   ]
  },
  {
   "cell_type": "markdown",
   "metadata": {},
   "source": [
    "## Sampling\n",
    "\n",
    "- Both upsampling and downsampling were attempted on this dataset\n",
    "- No improvement to results were achieved so the code was removed to declutter "
   ]
  },
  {
   "cell_type": "markdown",
   "metadata": {},
   "source": [
    "## Split the Data"
   ]
  },
  {
   "cell_type": "code",
   "execution_count": 22,
   "metadata": {},
   "outputs": [],
   "source": [
    "train, test = train_test_split(df_reviews, \n",
    "                               test_size=0.25, \n",
    "                               stratify = df_reviews['mark'], \n",
    "                               random_state=STATE)"
   ]
  },
  {
   "cell_type": "code",
   "execution_count": 23,
   "metadata": {},
   "outputs": [],
   "source": [
    "X_train = train.drop(['id', 'review', 'mark'], axis=1)\n",
    "y_train = train['mark']\n",
    "\n",
    "X_test = test.drop(['id', 'review', 'mark'], axis=1)\n",
    "y_test = test['mark']"
   ]
  },
  {
   "cell_type": "code",
   "execution_count": 24,
   "metadata": {},
   "outputs": [
    {
     "data": {
      "text/plain": [
       "38835"
      ]
     },
     "metadata": {},
     "output_type": "display_data"
    },
    {
     "data": {
      "text/plain": [
       "12946"
      ]
     },
     "execution_count": 24,
     "metadata": {},
     "output_type": "execute_result"
    }
   ],
   "source": [
    "display(X_train.shape[0])\n",
    "X_test.shape[0]"
   ]
  },
  {
   "cell_type": "code",
   "execution_count": 25,
   "metadata": {},
   "outputs": [
    {
     "data": {
      "text/plain": [
       "RL    32006\n",
       "L-     4108\n",
       "YL     2221\n",
       "L+      500\n",
       "Name: mark, dtype: int64"
      ]
     },
     "execution_count": 25,
     "metadata": {},
     "output_type": "execute_result"
    }
   ],
   "source": [
    "y_train.value_counts()"
   ]
  },
  {
   "cell_type": "code",
   "execution_count": 26,
   "metadata": {},
   "outputs": [
    {
     "data": {
      "text/plain": [
       "RL    10670\n",
       "L-     1369\n",
       "YL      741\n",
       "L+      166\n",
       "Name: mark, dtype: int64"
      ]
     },
     "execution_count": 26,
     "metadata": {},
     "output_type": "execute_result"
    }
   ],
   "source": [
    "y_test.value_counts()"
   ]
  },
  {
   "cell_type": "markdown",
   "metadata": {},
   "source": [
    "## Logistic Regression Model"
   ]
  },
  {
   "cell_type": "markdown",
   "metadata": {},
   "source": [
    "### Count Vectorizer"
   ]
  },
  {
   "cell_type": "code",
   "execution_count": 27,
   "metadata": {},
   "outputs": [],
   "source": [
    "corpus = X_train['review_norm']\n",
    "count_vect = CountVectorizer(stop_words='english', ngram_range=(2,3), max_features=30000)\n",
    "X_train_1 = count_vect.fit_transform(corpus)"
   ]
  },
  {
   "cell_type": "code",
   "execution_count": 28,
   "metadata": {},
   "outputs": [],
   "source": [
    "corpus = X_test['review_norm']\n",
    "X_test_1 = count_vect.transform(corpus)"
   ]
  },
  {
   "cell_type": "code",
   "execution_count": 29,
   "metadata": {},
   "outputs": [],
   "source": [
    "grid={\n",
    "    \"penalty\":[\"l2\"],\n",
    "    \"fit_intercept\": [True, False],\n",
    "    \"random_state\": [STATE],\n",
    "    \"solver\": [\"newton-cg\", \"lbfgs\", \"liblinear\", \"sag\", \"saga\"],\n",
    "    \"max_iter\": [1000],\n",
    "    \"multi_class\": [\"ovr\", \"multinomial\"],\n",
    "    \"n_jobs\": [-1],\n",
    "}"
   ]
  },
  {
   "cell_type": "code",
   "execution_count": 30,
   "metadata": {},
   "outputs": [
    {
     "name": "stdout",
     "output_type": "stream",
     "text": [
      "Tuned Hyperparameters: {'fit_intercept': True, 'max_iter': 1000, 'multi_class': 'multinomial', 'n_jobs': -1, 'penalty': 'l2', 'random_state': 12345, 'solver': 'saga'}\n",
      "Accuracy: 0.8754731556585554\n"
     ]
    }
   ],
   "source": [
    "model_lr = LogisticRegression()\n",
    "\n",
    "lr_cv=GridSearchCV(model_lr,grid,cv=5)\n",
    "lr_cv.fit(X_train_1 ,y_train)\n",
    "\n",
    "print(\"Tuned Hyperparameters:\", lr_cv.best_params_)\n",
    "print(\"Accuracy:\", lr_cv.best_score_)"
   ]
  },
  {
   "cell_type": "markdown",
   "metadata": {},
   "source": [
    "- This cell can take hours to run\n",
    "- If significant changes to preprocessing or data, please run again"
   ]
  },
  {
   "cell_type": "code",
   "execution_count": 31,
   "metadata": {},
   "outputs": [
    {
     "data": {
      "text/plain": [
       "LogisticRegression(max_iter=1000, multi_class='multinomial', n_jobs=-1,\n",
       "                   random_state=12345, solver='saga')"
      ]
     },
     "execution_count": 31,
     "metadata": {},
     "output_type": "execute_result"
    }
   ],
   "source": [
    "model_lr = LogisticRegression(**lr_cv.best_params_)\n",
    "\n",
    "model_lr.fit(X_train_1, y_train)"
   ]
  },
  {
   "cell_type": "code",
   "execution_count": 32,
   "metadata": {},
   "outputs": [
    {
     "name": "stdout",
     "output_type": "stream",
     "text": [
      "              precision    recall  f1-score   support\n",
      "\n",
      "          L+       0.65      0.19      0.30       166\n",
      "          L-       0.80      0.52      0.63      1369\n",
      "          RL       0.89      0.98      0.94     10670\n",
      "          YL       0.58      0.17      0.27       741\n",
      "\n",
      "    accuracy                           0.88     12946\n",
      "   macro avg       0.73      0.47      0.53     12946\n",
      "weighted avg       0.86      0.88      0.86     12946\n",
      "\n",
      "0.8791132396106905\n"
     ]
    }
   ],
   "source": [
    "pred = model_lr.predict(X_test_1)\n",
    "print(classification_report(y_test,pred))\n",
    "print(accuracy_score(y_test,pred))"
   ]
  },
  {
   "cell_type": "markdown",
   "metadata": {},
   "source": [
    "- These are strong results for Logistic Regression\n",
    "- Not enough unique data for the smaller categories it seems"
   ]
  },
  {
   "cell_type": "markdown",
   "metadata": {},
   "source": [
    "### Tfidf Vectorizer"
   ]
  },
  {
   "cell_type": "code",
   "execution_count": 33,
   "metadata": {},
   "outputs": [],
   "source": [
    "corpus = X_train['review_norm']\n",
    "tfidf_vect= TfidfVectorizer(stop_words='english', ngram_range=(2,3), max_features=30000)\n",
    "X_train_2 = tfidf_vect.fit_transform(corpus)"
   ]
  },
  {
   "cell_type": "code",
   "execution_count": 34,
   "metadata": {},
   "outputs": [],
   "source": [
    "corpus = X_test['review_norm']\n",
    "X_test_2 = tfidf_vect.transform(corpus)"
   ]
  },
  {
   "cell_type": "code",
   "execution_count": 35,
   "metadata": {},
   "outputs": [
    {
     "name": "stdout",
     "output_type": "stream",
     "text": [
      "Tuned Hyperparameters: {'fit_intercept': True, 'max_iter': 1000, 'multi_class': 'multinomial', 'n_jobs': -1, 'penalty': 'l2', 'random_state': 12345, 'solver': 'saga'}\n",
      "Accuracy: 0.8592764259044676\n"
     ]
    }
   ],
   "source": [
    "model_lr_2 = LogisticRegression()\n",
    "\n",
    "lr_cv=GridSearchCV(model_lr_2,grid,cv=5)\n",
    "lr_cv.fit(X_train_2 ,y_train)\n",
    "\n",
    "print(\"Tuned Hyperparameters:\", lr_cv.best_params_)\n",
    "print(\"Accuracy:\", lr_cv.best_score_)"
   ]
  },
  {
   "cell_type": "markdown",
   "metadata": {},
   "source": [
    "- This cell can take hours to run\n",
    "- Results are hardcoded to avoid rerunning hours of calculations\n",
    "- If significant changes to preprocessing or data, please run again"
   ]
  },
  {
   "cell_type": "code",
   "execution_count": 36,
   "metadata": {
    "scrolled": true
   },
   "outputs": [
    {
     "data": {
      "text/plain": [
       "LogisticRegression(max_iter=1000, multi_class='multinomial', n_jobs=-1,\n",
       "                   random_state=12345, solver='saga')"
      ]
     },
     "execution_count": 36,
     "metadata": {},
     "output_type": "execute_result"
    }
   ],
   "source": [
    "model_lr_2 = LogisticRegression(**lr_cv.best_params_)\n",
    "                                \n",
    "model_lr_2.fit(X_train_2, y_train)"
   ]
  },
  {
   "cell_type": "code",
   "execution_count": 37,
   "metadata": {
    "scrolled": true
   },
   "outputs": [
    {
     "name": "stdout",
     "output_type": "stream",
     "text": [
      "              precision    recall  f1-score   support\n",
      "\n",
      "          L+       0.60      0.05      0.10       166\n",
      "          L-       0.84      0.44      0.58      1369\n",
      "          RL       0.87      0.99      0.93     10670\n",
      "          YL       0.84      0.05      0.09       741\n",
      "\n",
      "    accuracy                           0.87     12946\n",
      "   macro avg       0.79      0.38      0.42     12946\n",
      "weighted avg       0.86      0.87      0.83     12946\n",
      "\n",
      "0.869457747566816\n"
     ]
    }
   ],
   "source": [
    "pred = model_lr_2.predict(X_test_2)\n",
    "print(classification_report(y_test,pred))\n",
    "print(accuracy_score(y_test,pred))"
   ]
  },
  {
   "cell_type": "markdown",
   "metadata": {},
   "source": [
    "- Significantly worse results on the smaller categories\n",
    "- Count Vectorizer is the clear winner here"
   ]
  },
  {
   "cell_type": "markdown",
   "metadata": {},
   "source": [
    "## Catboost Model"
   ]
  },
  {
   "cell_type": "code",
   "execution_count": 38,
   "metadata": {},
   "outputs": [],
   "source": [
    "text_features = ['review_norm']"
   ]
  },
  {
   "cell_type": "code",
   "execution_count": 60,
   "metadata": {},
   "outputs": [],
   "source": [
    "train_pool = Pool(\n",
    "    X_train, \n",
    "    y_train,  \n",
    "    text_features=text_features, \n",
    "    feature_names=list(X_train)\n",
    ")\n",
    "valid_pool = Pool(\n",
    "    X_test, \n",
    "    y_test,\n",
    "    text_features=text_features, \n",
    "    feature_names=list(X_train)\n",
    ")\n",
    "\n",
    "catboost_params = {\n",
    "    'iterations': 5000,\n",
    "    'learning_rate': 0.03,\n",
    "    'eval_metric': 'TotalF1',\n",
    "    'task_type': 'GPU' if USE_GPU else 'CPU',\n",
    "    'early_stopping_rounds': 2000,\n",
    "    'use_best_model': True,\n",
    "    'verbose': 500,\n",
    "    'random_state': STATE\n",
    "}"
   ]
  },
  {
   "cell_type": "code",
   "execution_count": 40,
   "metadata": {},
   "outputs": [
    {
     "name": "stdout",
     "output_type": "stream",
     "text": [
      "0:\tlearn: 0.8517705\ttest: 0.8532483\tbest: 0.8532483 (0)\ttotal: 28.7ms\tremaining: 2m 23s\n",
      "500:\tlearn: 0.8950334\ttest: 0.8904317\tbest: 0.8904748 (499)\ttotal: 10.8s\tremaining: 1m 37s\n",
      "1000:\tlearn: 0.9092785\ttest: 0.8978792\tbest: 0.8983240 (947)\ttotal: 21.7s\tremaining: 1m 26s\n",
      "1500:\tlearn: 0.9170555\ttest: 0.9014397\tbest: 0.9017088 (1487)\ttotal: 32.6s\tremaining: 1m 15s\n",
      "2000:\tlearn: 0.9232431\ttest: 0.9042233\tbest: 0.9043929 (1986)\ttotal: 43.5s\tremaining: 1m 5s\n",
      "2500:\tlearn: 0.9278779\ttest: 0.9054554\tbest: 0.9057675 (2439)\ttotal: 54.4s\tremaining: 54.4s\n",
      "3000:\tlearn: 0.9318730\ttest: 0.9062368\tbest: 0.9065412 (2887)\ttotal: 1m 5s\tremaining: 43.6s\n",
      "3500:\tlearn: 0.9347331\ttest: 0.9078687\tbest: 0.9079615 (3480)\ttotal: 1m 16s\tremaining: 32.7s\n",
      "4000:\tlearn: 0.9373805\ttest: 0.9088320\tbest: 0.9088320 (4000)\ttotal: 1m 27s\tremaining: 21.8s\n",
      "4500:\tlearn: 0.9400044\ttest: 0.9094047\tbest: 0.9098289 (4252)\ttotal: 1m 37s\tremaining: 10.9s\n",
      "4999:\tlearn: 0.9423276\ttest: 0.9102575\tbest: 0.9104906 (4982)\ttotal: 1m 48s\tremaining: 0us\n",
      "bestTest = 0.9104905816\n",
      "bestIteration = 4982\n",
      "Shrink model to first 4983 iterations.\n"
     ]
    },
    {
     "data": {
      "text/plain": [
       "<catboost.core.CatBoostClassifier at 0x242871f2e48>"
      ]
     },
     "execution_count": 40,
     "metadata": {},
     "output_type": "execute_result"
    }
   ],
   "source": [
    "model_cb = CatBoostClassifier(**catboost_params)\n",
    "model_cb.fit(train_pool, eval_set=valid_pool)"
   ]
  },
  {
   "cell_type": "code",
   "execution_count": 41,
   "metadata": {
    "scrolled": true
   },
   "outputs": [
    {
     "name": "stdout",
     "output_type": "stream",
     "text": [
      "              precision    recall  f1-score   support\n",
      "\n",
      "          L+       0.65      0.23      0.35       166\n",
      "          L-       0.80      0.79      0.79      1369\n",
      "          RL       0.94      0.98      0.96     10670\n",
      "          YL       0.77      0.43      0.55       741\n",
      "\n",
      "    accuracy                           0.92     12946\n",
      "   macro avg       0.79      0.61      0.66     12946\n",
      "weighted avg       0.91      0.92      0.91     12946\n",
      "\n",
      "0.9181986714042948\n"
     ]
    }
   ],
   "source": [
    "pred = model_cb.predict(X_test)\n",
    "print(classification_report(y_test,pred))\n",
    "print(accuracy_score(y_test,pred))"
   ]
  },
  {
   "cell_type": "markdown",
   "metadata": {},
   "source": [
    "- Very strong results for RL category\n",
    "- The trend appears to be that with more data points the models accuracy increases in a category"
   ]
  },
  {
   "cell_type": "markdown",
   "metadata": {},
   "source": [
    "## Experiment on Multiple Model Usage"
   ]
  },
  {
   "cell_type": "markdown",
   "metadata": {},
   "source": [
    "### Phase 1 - Localization Requests"
   ]
  },
  {
   "cell_type": "code",
   "execution_count": 42,
   "metadata": {},
   "outputs": [],
   "source": [
    "reviews_set_1 = df_reviews.copy()"
   ]
  },
  {
   "cell_type": "code",
   "execution_count": 43,
   "metadata": {},
   "outputs": [],
   "source": [
    "for i in range(len(reviews_set_1)):\n",
    "     if reviews_set_1['mark'][i] != 'RL':\n",
    "            reviews_set_1['mark'][i] = 'YL'"
   ]
  },
  {
   "cell_type": "code",
   "execution_count": 44,
   "metadata": {
    "scrolled": true
   },
   "outputs": [
    {
     "data": {
      "text/plain": [
       "RL    42676\n",
       "YL     9105\n",
       "Name: mark, dtype: int64"
      ]
     },
     "execution_count": 44,
     "metadata": {},
     "output_type": "execute_result"
    }
   ],
   "source": [
    "reviews_set_1['mark'].value_counts()               "
   ]
  },
  {
   "cell_type": "code",
   "execution_count": 45,
   "metadata": {},
   "outputs": [],
   "source": [
    "X1 = reviews_set_1.drop(['id', 'review', 'mark'], axis=1)\n",
    "y1 = reviews_set_1['mark']"
   ]
  },
  {
   "cell_type": "code",
   "execution_count": 46,
   "metadata": {},
   "outputs": [],
   "source": [
    "X1_train, X1_test, y1_train, y1_test = train_test_split(X1,y1, test_size=0.25, stratify = y1)"
   ]
  },
  {
   "cell_type": "code",
   "execution_count": 61,
   "metadata": {},
   "outputs": [],
   "source": [
    "train_pool_2 = Pool(\n",
    "    X1_train, \n",
    "    y1_train,  \n",
    "    text_features=text_features, \n",
    "    feature_names=list(X1_train)\n",
    ")\n",
    "valid_pool_2 = Pool(\n",
    "    X1_test, \n",
    "    y1_test,\n",
    "    text_features=text_features, \n",
    "    feature_names=list(X1_train)\n",
    ")"
   ]
  },
  {
   "cell_type": "code",
   "execution_count": 48,
   "metadata": {
    "scrolled": true
   },
   "outputs": [
    {
     "name": "stdout",
     "output_type": "stream",
     "text": [
      "0:\tlearn: 0.8866448\ttest: 0.8891357\tbest: 0.8891357 (0)\ttotal: 60.6ms\tremaining: 5m 2s\n",
      "500:\tlearn: 0.9226201\ttest: 0.9155004\tbest: 0.9156253 (494)\ttotal: 28.6s\tremaining: 4m 16s\n",
      "1000:\tlearn: 0.9332266\ttest: 0.9222860\tbest: 0.9222860 (1000)\ttotal: 56.7s\tremaining: 3m 46s\n",
      "1500:\tlearn: 0.9405186\ttest: 0.9246324\tbest: 0.9248068 (1487)\ttotal: 1m 24s\tremaining: 3m 17s\n",
      "2000:\tlearn: 0.9457609\ttest: 0.9258364\tbest: 0.9260103 (1830)\ttotal: 1m 52s\tremaining: 2m 48s\n",
      "2500:\tlearn: 0.9501938\ttest: 0.9264900\tbest: 0.9266340 (2435)\ttotal: 2m 20s\tremaining: 2m 19s\n",
      "3000:\tlearn: 0.9533795\ttest: 0.9268223\tbest: 0.9275135 (2844)\ttotal: 2m 47s\tremaining: 1m 51s\n",
      "3500:\tlearn: 0.9567446\ttest: 0.9272541\tbest: 0.9275135 (2844)\ttotal: 3m 15s\tremaining: 1m 23s\n",
      "4000:\tlearn: 0.9593883\ttest: 0.9279158\tbest: 0.9281178 (3914)\ttotal: 3m 43s\tremaining: 55.8s\n",
      "4500:\tlearn: 0.9618747\ttest: 0.9285048\tbest: 0.9285048 (4491)\ttotal: 4m 11s\tremaining: 27.9s\n",
      "4999:\tlearn: 0.9639499\ttest: 0.9284468\tbest: 0.9287630 (4944)\ttotal: 4m 38s\tremaining: 0us\n",
      "bestTest = 0.9287630212\n",
      "bestIteration = 4944\n",
      "Shrink model to first 4945 iterations.\n"
     ]
    },
    {
     "data": {
      "text/plain": [
       "<catboost.core.CatBoostClassifier at 0x242871f2948>"
      ]
     },
     "execution_count": 48,
     "metadata": {},
     "output_type": "execute_result"
    }
   ],
   "source": [
    "model1 = CatBoostClassifier(**catboost_params)\n",
    "model1.fit(train_pool_2, eval_set=valid_pool_2)"
   ]
  },
  {
   "cell_type": "code",
   "execution_count": 49,
   "metadata": {},
   "outputs": [
    {
     "name": "stdout",
     "output_type": "stream",
     "text": [
      "              precision    recall  f1-score   support\n",
      "\n",
      "          RL       0.95      0.97      0.96     10670\n",
      "          YL       0.84      0.75      0.79      2276\n",
      "\n",
      "    accuracy                           0.93     12946\n",
      "   macro avg       0.89      0.86      0.87     12946\n",
      "weighted avg       0.93      0.93      0.93     12946\n",
      "\n",
      "0.9304032133477522\n"
     ]
    }
   ],
   "source": [
    "pred1 = model1.predict(X1_test)\n",
    "print(classification_report(y1_test,pred1))\n",
    "print(accuracy_score(y1_test,pred1))"
   ]
  },
  {
   "cell_type": "markdown",
   "metadata": {},
   "source": [
    "### Phase 2 - Localization Reviews"
   ]
  },
  {
   "cell_type": "code",
   "execution_count": 50,
   "metadata": {},
   "outputs": [],
   "source": [
    "reviews_set_2 = df_reviews.copy()"
   ]
  },
  {
   "cell_type": "code",
   "execution_count": 51,
   "metadata": {},
   "outputs": [],
   "source": [
    "reviews_set_2 = reviews_set_2[reviews_set_2['mark'] != 'RL']"
   ]
  },
  {
   "cell_type": "code",
   "execution_count": 52,
   "metadata": {},
   "outputs": [
    {
     "data": {
      "text/plain": [
       "L-    5477\n",
       "YL    2962\n",
       "L+     666\n",
       "Name: mark, dtype: int64"
      ]
     },
     "execution_count": 52,
     "metadata": {},
     "output_type": "execute_result"
    }
   ],
   "source": [
    "reviews_set_2['mark'].value_counts()  "
   ]
  },
  {
   "cell_type": "code",
   "execution_count": 53,
   "metadata": {},
   "outputs": [],
   "source": [
    "X2 = reviews_set_2.drop(['id', 'review', 'mark'], axis=1)\n",
    "y2 = reviews_set_2['mark']"
   ]
  },
  {
   "cell_type": "code",
   "execution_count": 54,
   "metadata": {},
   "outputs": [],
   "source": [
    "X2_train, X2_test, y2_train, y2_test = train_test_split(X2,y2, test_size=0.25, stratify = y2)"
   ]
  },
  {
   "cell_type": "code",
   "execution_count": 62,
   "metadata": {},
   "outputs": [],
   "source": [
    "train_pool_3 = Pool(\n",
    "    X2_train, \n",
    "    y2_train,  \n",
    "    text_features=text_features, \n",
    "    feature_names=list(X2_train)\n",
    ")\n",
    "valid_pool_3 = Pool(\n",
    "    X2_test, \n",
    "    y2_test,\n",
    "    text_features=text_features, \n",
    "    feature_names=list(X2_train)\n",
    ")"
   ]
  },
  {
   "cell_type": "code",
   "execution_count": 56,
   "metadata": {},
   "outputs": [
    {
     "name": "stdout",
     "output_type": "stream",
     "text": [
      "0:\tlearn: 0.7968397\ttest: 0.8152103\tbest: 0.8152103 (0)\ttotal: 25.9ms\tremaining: 2m 9s\n",
      "500:\tlearn: 0.8476542\ttest: 0.8385124\tbest: 0.8385909 (493)\ttotal: 10s\tremaining: 1m 29s\n",
      "1000:\tlearn: 0.8767694\ttest: 0.8500063\tbest: 0.8500063 (995)\ttotal: 20.1s\tremaining: 1m 20s\n",
      "1500:\tlearn: 0.8962401\ttest: 0.8518733\tbest: 0.8529896 (1485)\ttotal: 30.3s\tremaining: 1m 10s\n",
      "2000:\tlearn: 0.9091538\ttest: 0.8553469\tbest: 0.8558676 (1950)\ttotal: 40.1s\tremaining: 1m\n",
      "2500:\tlearn: 0.9181506\ttest: 0.8573688\tbest: 0.8573688 (2474)\ttotal: 49.8s\tremaining: 49.7s\n",
      "3000:\tlearn: 0.9274049\ttest: 0.8598072\tbest: 0.8598072 (2976)\ttotal: 59.6s\tremaining: 39.7s\n",
      "3500:\tlearn: 0.9361894\ttest: 0.8619213\tbest: 0.8622723 (3151)\ttotal: 1m 9s\tremaining: 29.7s\n",
      "4000:\tlearn: 0.9431237\ttest: 0.8620891\tbest: 0.8634842 (3565)\ttotal: 1m 19s\tremaining: 19.9s\n",
      "4500:\tlearn: 0.9481487\ttest: 0.8619907\tbest: 0.8634842 (3565)\ttotal: 1m 29s\tremaining: 9.97s\n",
      "4999:\tlearn: 0.9529232\ttest: 0.8618240\tbest: 0.8634842 (3565)\ttotal: 1m 39s\tremaining: 0us\n",
      "bestTest = 0.8634842157\n",
      "bestIteration = 3565\n",
      "Shrink model to first 3566 iterations.\n"
     ]
    },
    {
     "data": {
      "text/plain": [
       "<catboost.core.CatBoostClassifier at 0x2428c32b1c8>"
      ]
     },
     "execution_count": 56,
     "metadata": {},
     "output_type": "execute_result"
    }
   ],
   "source": [
    "model2 = CatBoostClassifier(**catboost_params)\n",
    "model2.fit(train_pool_3, eval_set=valid_pool_3)"
   ]
  },
  {
   "cell_type": "code",
   "execution_count": 57,
   "metadata": {},
   "outputs": [
    {
     "name": "stdout",
     "output_type": "stream",
     "text": [
      "              precision    recall  f1-score   support\n",
      "\n",
      "          L+       0.69      0.31      0.43       166\n",
      "          L-       0.89      0.95      0.92      1370\n",
      "          YL       0.85      0.86      0.86       741\n",
      "\n",
      "    accuracy                           0.87      2277\n",
      "   macro avg       0.81      0.71      0.74      2277\n",
      "weighted avg       0.87      0.87      0.86      2277\n",
      "\n",
      "0.873078612209047\n"
     ]
    }
   ],
   "source": [
    "pred2 = model2.predict(X2_test)\n",
    "print(classification_report(y2_test,pred2))\n",
    "print(accuracy_score(y2_test,pred2))"
   ]
  },
  {
   "cell_type": "markdown",
   "metadata": {},
   "source": [
    "- Strong results so far, significantly better than a single Logistic Regression model\n",
    "- It appears, as mentioned before, more data points are needed to improve\n",
    "- Errors in the first model will compound into the second model under this approach"
   ]
  },
  {
   "cell_type": "markdown",
   "metadata": {},
   "source": [
    "# Final Conclusion\n",
    " "
   ]
  },
  {
   "cell_type": "markdown",
   "metadata": {},
   "source": [
    "- Catboost was our strongest performing model with a 96% accuracy for RL (Localization Requests)\n",
    "- No model performed well at predicting the minority targets of YL, L+, and L-.\n",
    "- We need more data! The dataset is heavily imbalanced at this time.\n",
    "- We can potentially negate 80% of the manual labeling work by relying on the single Catboost model\n",
    "- If the minority categories are more important, the 2 model approach yielded better results on this front.\n",
    "- Without more data our next steps for seeking improvement are creating a Deep Learning/Neural Network"
   ]
  },
  {
   "cell_type": "markdown",
   "metadata": {},
   "source": [
    "## Implementation"
   ]
  },
  {
   "cell_type": "markdown",
   "metadata": {},
   "source": [
    "- A python file has been provided to Allcorrect Games, once run they can call label_catboost_excel(File_Path, Model_Path) in the terminal.  \n",
    "- The script will add a predictions column to the dataset using the catboost model from our single model approach"
   ]
  },
  {
   "cell_type": "code",
   "execution_count": null,
   "metadata": {},
   "outputs": [],
   "source": []
  }
 ],
 "metadata": {
  "interpreter": {
   "hash": "b8350b63b5f57de061cc19d1de608d37a613356c216f9eb2f6159b6515cc2f64"
  },
  "kernelspec": {
   "display_name": "Python 3",
   "language": "python",
   "name": "python3"
  },
  "language_info": {
   "codemirror_mode": {
    "name": "ipython",
    "version": 3
   },
   "file_extension": ".py",
   "mimetype": "text/x-python",
   "name": "python",
   "nbconvert_exporter": "python",
   "pygments_lexer": "ipython3",
   "version": "3.7.9"
  }
 },
 "nbformat": 4,
 "nbformat_minor": 4
}